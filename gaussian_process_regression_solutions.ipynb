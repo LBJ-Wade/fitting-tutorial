{
 "cells": [
  {
   "cell_type": "markdown",
   "metadata": {},
   "source": [
    "# Gaussian Process Light Curve Regression\n",
    "By: Griffin Hosseinzadeh (2019 April 17)"
   ]
  },
  {
   "cell_type": "code",
   "execution_count": 1,
   "metadata": {},
   "outputs": [],
   "source": [
    "import numpy as np\n",
    "import matplotlib.pyplot as plt\n",
    "import george\n",
    "from astropy.table import Table\n",
    "\n",
    "%matplotlib inline"
   ]
  },
  {
   "cell_type": "markdown",
   "metadata": {},
   "source": [
    "## Read the Light Curve\n",
    "I have given you light curve data for the Type Ibn supernova PTF11rfh in the file `PTF11rfh.table`, which is readable with the `astropy.table` module. (Hint: `format='ascii.fixed_width'`.) For this example, let's fit the light curve in counts rather than magnitudes. Select only points observed in the $r$ or $R$ filter and have a measurement in counts. Plot it to see what we're working with. (For non-astronomers, MJD is a measure of time in days.)"
   ]
  },
  {
   "cell_type": "code",
   "execution_count": 2,
   "metadata": {},
   "outputs": [
    {
     "data": {
      "text/html": [
       "<i>Table masked=True length=20</i>\n",
       "<table id=\"table34916612248-29404\" class=\"table-striped table-bordered table-condensed\">\n",
       "<thead><tr><th>idx</th><th>MJD</th><th>counts</th><th>dcounts</th><th>zp</th><th>nondet</th><th>filt</th><th>source</th><th>mag</th><th>dmag</th><th>limmag</th><th>flam</th><th>dflam</th></tr></thead>\n",
       "<tr><td>0</td><td>55889.091</td><td>19.7</td><td>36.8</td><td>27.0</td><td>True</td><td>R</td><td>P48</td><td>21.89257731651705</td><td>nan</td><td>--</td><td>--</td><td>--</td></tr>\n",
       "<tr><td>1</td><td>55889.125</td><td>22.2</td><td>45.1</td><td>27.0</td><td>True</td><td>R</td><td>P48</td><td>21.671755508505942</td><td>nan</td><td>--</td><td>--</td><td>--</td></tr>\n",
       "<tr><td>2</td><td>55889.167</td><td>-7.8</td><td>49.6</td><td>27.0</td><td>True</td><td>R</td><td>P48</td><td>21.56849267197535</td><td>nan</td><td>--</td><td>--</td><td>--</td></tr>\n",
       "<tr><td>3</td><td>55891.167</td><td>-17.1</td><td>54.8</td><td>27.0</td><td>True</td><td>R</td><td>P48</td><td>21.46024546698992</td><td>nan</td><td>--</td><td>--</td><td>--</td></tr>\n",
       "<tr><td>4</td><td>55892.099</td><td>99.8</td><td>107.9</td><td>27.0</td><td>True</td><td>R</td><td>P48</td><td>20.724643251493568</td><td>nan</td><td>--</td><td>--</td><td>--</td></tr>\n",
       "<tr><td>5</td><td>55892.142</td><td>-128.1</td><td>64.0</td><td>27.0</td><td>True</td><td>R</td><td>P48</td><td>21.291746928241125</td><td>nan</td><td>--</td><td>--</td><td>--</td></tr>\n",
       "<tr><td>6</td><td>55892.178</td><td>-13.6</td><td>107.1</td><td>27.0</td><td>True</td><td>R</td><td>P48</td><td>20.732723186121206</td><td>nan</td><td>--</td><td>--</td><td>--</td></tr>\n",
       "<tr><td>7</td><td>55893.098</td><td>-57.5</td><td>56.9</td><td>27.0</td><td>True</td><td>R</td><td>P48</td><td>21.419416197213167</td><td>nan</td><td>--</td><td>--</td><td>--</td></tr>\n",
       "<tr><td>8</td><td>55893.136</td><td>-85.3</td><td>64.3</td><td>27.0</td><td>True</td><td>R</td><td>P48</td><td>21.28666943089029</td><td>nan</td><td>--</td><td>--</td><td>--</td></tr>\n",
       "<tr><td>9</td><td>55894.168</td><td>369.3</td><td>196.8</td><td>27.0</td><td>True</td><td>R</td><td>P48</td><td>20.072134127962535</td><td>nan</td><td>--</td><td>--</td><td>--</td></tr>\n",
       "<tr><td>10</td><td>55901.104</td><td>251.1</td><td>172.3</td><td>27.0</td><td>True</td><td>R</td><td>P48</td><td>20.216483669580775</td><td>nan</td><td>--</td><td>--</td><td>--</td></tr>\n",
       "<tr><td>11</td><td>55901.142</td><td>56.5</td><td>140.4</td><td>27.0</td><td>True</td><td>R</td><td>P48</td><td>20.438779093716377</td><td>nan</td><td>--</td><td>--</td><td>--</td></tr>\n",
       "<tr><td>12</td><td>55902.109</td><td>290.0</td><td>107.6</td><td>27.0</td><td>True</td><td>R</td><td>P48</td><td>20.72766618487492</td><td>nan</td><td>--</td><td>--</td><td>--</td></tr>\n",
       "<tr><td>13</td><td>55903.102</td><td>657.4</td><td>81.0</td><td>27.0</td><td>False</td><td>R</td><td>P48</td><td>19.955425750635985</td><td>0.13377644141376405</td><td>--</td><td>--</td><td>--</td></tr>\n",
       "<tr><td>14</td><td>55903.139</td><td>739.7</td><td>111.9</td><td>27.0</td><td>False</td><td>R</td><td>P48</td><td>19.827360953245233</td><td>0.16424750751985223</td><td>--</td><td>--</td><td>--</td></tr>\n",
       "<tr><td>15</td><td>55906.204</td><td>2079.8</td><td>70.2</td><td>27.0</td><td>False</td><td>r</td><td>P60</td><td>18.704946065324535</td><td>0.03664712067218996</td><td>--</td><td>--</td><td>--</td></tr>\n",
       "<tr><td>16</td><td>55928.123</td><td>450.3</td><td>81.0</td><td>27.0</td><td>False</td><td>r</td><td>P60</td><td>20.366245132592667</td><td>0.19530231531292136</td><td>--</td><td>--</td><td>--</td></tr>\n",
       "<tr><td>17</td><td>55930.12</td><td>526.8</td><td>68.3</td><td>27.0</td><td>False</td><td>r</td><td>P60</td><td>20.195885584275636</td><td>0.1407664821279048</td><td>--</td><td>--</td><td>--</td></tr>\n",
       "<tr><td>18</td><td>55941.095</td><td>164.4</td><td>84.5</td><td>27.0</td><td>True</td><td>r</td><td>P60</td><td>20.990055090826612</td><td>nan</td><td>--</td><td>--</td><td>--</td></tr>\n",
       "<tr><td>19</td><td>55947.091</td><td>247.4</td><td>94.7</td><td>27.0</td><td>True</td><td>r</td><td>P60</td><td>20.86632191569266</td><td>nan</td><td>--</td><td>--</td><td>--</td></tr>\n",
       "</table><style>table.dataTable {clear: both; width: auto !important; margin: 0 !important;}\n",
       ".dataTables_info, .dataTables_length, .dataTables_filter, .dataTables_paginate{\n",
       "display: inline-block; margin-right: 1em; }\n",
       ".paginate_button { margin-right: 5px; }\n",
       "</style>\n",
       "<script>\n",
       "\n",
       "var astropy_sort_num = function(a, b) {\n",
       "    var a_num = parseFloat(a);\n",
       "    var b_num = parseFloat(b);\n",
       "\n",
       "    if (isNaN(a_num) && isNaN(b_num))\n",
       "        return ((a < b) ? -1 : ((a > b) ? 1 : 0));\n",
       "    else if (!isNaN(a_num) && !isNaN(b_num))\n",
       "        return ((a_num < b_num) ? -1 : ((a_num > b_num) ? 1 : 0));\n",
       "    else\n",
       "        return isNaN(a_num) ? -1 : 1;\n",
       "}\n",
       "\n",
       "require.config({paths: {\n",
       "    datatables: 'https://cdn.datatables.net/1.10.12/js/jquery.dataTables.min'\n",
       "}});\n",
       "require([\"datatables\"], function(){\n",
       "    console.log(\"$('#table34916612248-29404').dataTable()\");\n",
       "    \n",
       "jQuery.extend( jQuery.fn.dataTableExt.oSort, {\n",
       "    \"optionalnum-asc\": astropy_sort_num,\n",
       "    \"optionalnum-desc\": function (a,b) { return -astropy_sort_num(a, b); }\n",
       "});\n",
       "\n",
       "    $('#table34916612248-29404').dataTable({\n",
       "        order: [],\n",
       "        pageLength: 50,\n",
       "        lengthMenu: [[10, 25, 50, 100, 500, 1000, -1], [10, 25, 50, 100, 500, 1000, 'All']],\n",
       "        pagingType: \"full_numbers\",\n",
       "        columnDefs: [{targets: [0, 1, 2, 3, 4, 8, 9, 10, 11, 12], type: \"optionalnum\"}]\n",
       "    });\n",
       "});\n",
       "</script>\n"
      ],
      "text/plain": [
       "<IPython.core.display.HTML object>"
      ]
     },
     "execution_count": 2,
     "metadata": {},
     "output_type": "execute_result"
    }
   ],
   "source": [
    "data = Table.read('PTF11rfh.table', format='ascii.fixed_width')\n",
    "data = data[((data['filt'] == 'r') | (data['filt'] == 'R')) & ~data['counts'].mask]\n",
    "data.show_in_notebook()"
   ]
  },
  {
   "cell_type": "code",
   "execution_count": 3,
   "metadata": {},
   "outputs": [
    {
     "data": {
      "text/plain": [
       "<ErrorbarContainer object of 3 artists>"
      ]
     },
     "execution_count": 3,
     "metadata": {},
     "output_type": "execute_result"
    },
    {
     "data": {
      "image/png": "[encoded data removed]",
      "text/plain": [
       "<Figure size 432x288 with 1 Axes>"
      ]
     },
     "metadata": {
      "needs_background": "light"
     },
     "output_type": "display_data"
    }
   ],
   "source": [
    "x = data['MJD']\n",
    "y = data['counts']\n",
    "dy = data['dcounts']\n",
    "plt.errorbar(x, y, dy, fmt='o')"
   ]
  },
  {
   "cell_type": "markdown",
   "metadata": {},
   "source": [
    "## Try a Polynomial Fit\n",
    "Hint: use `np.polyfit` and `np.polyval`. Try different degree polynomials to see if you are able to get a good fit."
   ]
  },
  {
   "cell_type": "code",
   "execution_count": 4,
   "metadata": {},
   "outputs": [
    {
     "name": "stderr",
     "output_type": "stream",
     "text": [
      "/anaconda3/lib/python3.7/site-packages/ipykernel_launcher.py:2: RankWarning: Polyfit may be poorly conditioned\n",
      "  \n"
     ]
    },
    {
     "data": {
      "text/plain": [
       "<matplotlib.legend.Legend at 0x823446a90>"
      ]
     },
     "execution_count": 4,
     "metadata": {},
     "output_type": "execute_result"
    },
    {
     "data": {
      "image/png": "[encoded data removed]",
      "text/plain": [
       "<Figure size 432x288 with 1 Axes>"
      ]
     },
     "metadata": {
      "needs_background": "light"
     },
     "output_type": "display_data"
    }
   ],
   "source": [
    "x_fit = np.arange(55890., 55950.)\n",
    "p = np.polyfit(x, y, 20)\n",
    "y_fit_poly = np.polyval(p, x_fit)\n",
    "\n",
    "plt.errorbar(x, y, dy, fmt='o', label='observed')\n",
    "plt.plot(x_fit, y_fit_poly, label='polynomial')\n",
    "plt.xlabel('MJD')\n",
    "plt.ylabel('Counts')\n",
    "plt.legend()"
   ]
  },
  {
   "cell_type": "markdown",
   "metadata": {},
   "source": [
    "Don't spend too much time on this. I could not get it to give a reasonable result."
   ]
  },
  {
   "cell_type": "markdown",
   "metadata": {},
   "source": [
    "## Try a Gaussian Process\n",
    "We are using a package called `george` to make Gaussian process regression easier. It has all of the functions you need build in.\n",
    "\n",
    "First we need to initialize a kernel (`george.kernels`). You should normalize the kernel by the total variance of the data points. Think about what hyperparameters would be appropriate for fitting your data. We can always optimize them later."
   ]
  },
  {
   "cell_type": "code",
   "execution_count": 5,
   "metadata": {},
   "outputs": [],
   "source": [
    "kernel = np.var(y) * george.kernels.ExpSquaredKernel(80.)"
   ]
  },
  {
   "cell_type": "markdown",
   "metadata": {},
   "source": [
    "Initialize a Gaussian process with the kernel you chose. This is all contained within the `george.GP` object, which we will use for the remainder of the calculations."
   ]
  },
  {
   "cell_type": "code",
   "execution_count": 6,
   "metadata": {},
   "outputs": [],
   "source": [
    "gp = george.GP(kernel)"
   ]
  },
  {
   "cell_type": "markdown",
   "metadata": {},
   "source": [
    "The first step is to precompute the covariance matrix at the observed times."
   ]
  },
  {
   "cell_type": "code",
   "execution_count": 7,
   "metadata": {},
   "outputs": [],
   "source": [
    "gp.compute(x, dy)"
   ]
  },
  {
   "cell_type": "markdown",
   "metadata": {},
   "source": [
    "The second and last step is to use the Gaussian process to predict the light curve at the times in `x_fit`, given the observed data points in `y`. This should give you an interpolation **and** and uncertainty on the interpolation."
   ]
  },
  {
   "cell_type": "code",
   "execution_count": 8,
   "metadata": {},
   "outputs": [],
   "source": [
    "y_fit, y_var = gp.predict(y, x_fit, return_var=True)"
   ]
  },
  {
   "cell_type": "markdown",
   "metadata": {},
   "source": [
    "Plot the results of your Gaussian process fit and compare to the data and the polynomial fit. Hint: display the uncertainties using `plt.fill_between`."
   ]
  },
  {
   "cell_type": "code",
   "execution_count": 9,
   "metadata": {
    "scrolled": false
   },
   "outputs": [
    {
     "data": {
      "text/plain": [
       "<matplotlib.legend.Legend at 0x8235cdb70>"
      ]
     },
     "execution_count": 9,
     "metadata": {},
     "output_type": "execute_result"
    },
    {
     "data": {
      "image/png": "[encoded data removed]",
      "text/plain": [
       "<Figure size 432x288 with 1 Axes>"
      ]
     },
     "metadata": {
      "needs_background": "light"
     },
     "output_type": "display_data"
    }
   ],
   "source": [
    "plt.errorbar(x, y, dy, fmt='o', label='observed')\n",
    "plt.plot(x_fit, y_fit_poly, label='polynomial')\n",
    "h = plt.plot(x_fit, y_fit, label='Gaussian process')\n",
    "plt.fill_between(x_fit, y_fit + np.sqrt(y_var), y_fit - np.sqrt(y_var), alpha=0.5, color=h[0].get_color())\n",
    "plt.xlabel('MJD')\n",
    "plt.ylabel('Counts')\n",
    "plt.legend()"
   ]
  },
  {
   "cell_type": "markdown",
   "metadata": {},
   "source": [
    "Once you get a reasonable fit, try adjusting the kernel and/or hyperparameters to see what effects they have."
   ]
  },
  {
   "cell_type": "markdown",
   "metadata": {},
   "source": [
    "## Take-Away Message\n",
    "Gaussian process regression is a very easy and powerful way to interpolate an arbitrary set of data points with a nonparametric function. Furthermore, it gives you uncertainties on the interpolation and handles covariance between points correctly."
   ]
  },
  {
   "cell_type": "markdown",
   "metadata": {},
   "source": [
    "## Other Things to Try\n",
    "- Optimize the Gaussian process using the technique described in the George tutorial: https://george.readthedocs.io/en/latest/tutorials/first/.\n",
    "- Marginalize over the hyperparameter(s) using MCMC.\n",
    "- Try products of different kernels to see if you can get a better fit."
   ]
  }
 ],
 "metadata": {
  "kernelspec": {
   "display_name": "Python 3",
   "language": "python",
   "name": "python3"
  },
  "language_info": {
   "codemirror_mode": {
    "name": "ipython",
    "version": 3
   },
   "file_extension": ".py",
   "mimetype": "text/x-python",
   "name": "python",
   "nbconvert_exporter": "python",
   "pygments_lexer": "ipython3",
   "version": "3.7.3"
  }
 },
 "nbformat": 4,
 "nbformat_minor": 2
}
